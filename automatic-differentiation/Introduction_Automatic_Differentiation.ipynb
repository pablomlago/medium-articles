{
  "nbformat": 4,
  "nbformat_minor": 0,
  "metadata": {
    "colab": {
      "provenance": [],
      "collapsed_sections": []
    },
    "kernelspec": {
      "name": "python3",
      "display_name": "Python 3"
    },
    "language_info": {
      "name": "python"
    }
  },
  "cells": [
    {
      "cell_type": "markdown",
      "source": [
        "## **Jupyter Notebook** for the article [A gentle introduction to Automatic Differentiation | by Pablo Monteagudo | Medium](https://medium.com/@pablo.monteagudo.lago/a-gentle-introduction-to-automatic-differentiation-74e7eb9a75af)."
      ],
      "metadata": {
        "id": "Di52BS2NCGqg"
      }
    },
    {
      "cell_type": "code",
      "execution_count": null,
      "metadata": {
        "id": "w8ErfB1B2ohr"
      },
      "outputs": [],
      "source": [
        "# Import math Library\n",
        "import math\n",
        "from typing import List, NamedTuple, Callable, Dict, Optional\n",
        "\n",
        "_name: int = 1\n",
        "_verbose: bool = False\n",
        "\n",
        "def print_verbose(string : str):\n",
        "  global _verbose\n",
        "  if _verbose:\n",
        "    print(string)\n",
        "\n",
        "def fresh_name() -> str:\n",
        "    \"\"\" create a new unique name for a variable: v0, v1, v2 \"\"\"\n",
        "    global _name\n",
        "    r = f'v{_name}'\n",
        "    _name += 1\n",
        "    return r"
      ]
    },
    {
      "cell_type": "code",
      "source": [
        "class Variable:\n",
        "    def __init__(self, value : float, name: str=None):\n",
        "        self.value = value\n",
        "        self.name = name or fresh_name()\n",
        "\n",
        "    # This function allows us to create the leaf nodes\n",
        "    @staticmethod\n",
        "    def constant(value: float, name: str=None):\n",
        "        r = Variable(value, name)\n",
        "        print_verbose(f'{r.name} = {value:.3f}')\n",
        "        return r\n",
        "\n",
        "    def __repr__(self):\n",
        "        return repr(self.value)\n",
        "\n",
        "    def __mul__(self, rhs: 'Variable') -> 'Variable':\n",
        "        return operator_mul(self, rhs)\n",
        "\n",
        "    def __add__(self, rhs: 'Variable') -> 'Variable':\n",
        "        return operator_add(self, rhs)\n",
        "\n",
        "    def __sub__(self, rhs: 'Variable') -> 'Variable':\n",
        "        return operator_add(self, -rhs)\n",
        "\n",
        "    def __truediv__(self, rhs: 'Variable') -> 'Variable':\n",
        "        return operator_mul(self, inv(rhs))\n",
        "\n",
        "    def __neg__(self) -> 'Variable':\n",
        "        return operator_neg(self)"
      ],
      "metadata": {
        "id": "M4PeCKrj2_4k"
      },
      "execution_count": null,
      "outputs": []
    },
    {
      "cell_type": "code",
      "source": [
        "class TapeEntry(NamedTuple):\n",
        "    # names of the inputs to the original computation\n",
        "    inputs : List[str]\n",
        "    # names of the outputs of the original computation\n",
        "    outputs: List[str]\n",
        "    # apply chain rule\n",
        "    propagate: 'Callable[List[Variable], List[Variable]]'"
      ],
      "metadata": {
        "id": "-VK8XWmmGjR2"
      },
      "execution_count": null,
      "outputs": []
    },
    {
      "cell_type": "code",
      "source": [
        "gradient_tape : List[TapeEntry] = []\n",
        "\n",
        "def reset_tape():\n",
        "  gradient_tape.clear()\n",
        "  global _name\n",
        "  _name = 1 # reset variable names too to keep them small.\n"
      ],
      "metadata": {
        "id": "i4nu2hkgGmnl"
      },
      "execution_count": null,
      "outputs": []
    },
    {
      "cell_type": "code",
      "source": [
        "def operator_mul(self : Variable, rhs: Variable) -> Variable:\n",
        "    # define forward\n",
        "    r = Variable(self.value * rhs.value)\n",
        "    print_verbose(f'{r.name} = {self.name} * {rhs.name} = {r.value:.3f}')\n",
        "\n",
        "    # record what the inputs and outputs of the op were\n",
        "    inputs = [self.name, rhs.name]\n",
        "    outputs = [r.name]\n",
        "\n",
        "    # define backprop\n",
        "    def propagate(dL_doutputs: List[Variable]):\n",
        "        dL_dr, = dL_doutputs \n",
        "        # partial derivative of r = self*rhs\n",
        "        dr_dself = rhs\n",
        "        # partial derivative of r = self*rhs\n",
        "        dr_drhs = self\n",
        "        # chain rule propagation from outputs to inputs of multiply\n",
        "        dL_dself = dL_dr * dr_dself\n",
        "        dL_drhs = dL_dr * dr_drhs\n",
        "        dL_dinputs = [dL_dself, dL_drhs] \n",
        "        return dL_dinputs\n",
        "    # finally, we record the compute we did on the tape\n",
        "    gradient_tape.append(TapeEntry(inputs=inputs, outputs=outputs, propagate=propagate))\n",
        "    return r\n",
        "\n",
        "def operator_add(self : Variable, rhs: Variable) -> Variable:\n",
        "  #define forward\n",
        "  r = Variable(self.value + rhs.value)\n",
        "  print_verbose(f'{r.name} = {self.name} + {rhs.name} = {r.value:.3f}')\n",
        "\n",
        "  # record what the inputs and outputs of the op were\n",
        "  inputs = [self.name, rhs.name]\n",
        "  outputs = [r.name]\n",
        "\n",
        "  # define backprop\n",
        "  def propagate(dL_doutputs: List[Variable]):\n",
        "        dL_dr, = dL_doutputs\n",
        "        # partial derivative of r = self+rhs\n",
        "        #dr_dself = 1.0\n",
        "        # partial derivative of r = self+rhs\n",
        "        #dr_drhs = 1.0\n",
        "        # chain rule propagation from outputs to inputs of add\n",
        "        dL_dself = dL_dr\n",
        "        dL_drhs = dL_dr\n",
        "        return [dL_dself, dL_drhs]\n",
        "  # finally, we record the compute we did on the tape\n",
        "  gradient_tape.append(TapeEntry(inputs=inputs, outputs=outputs, propagate=propagate))\n",
        "  return r\n",
        "\n",
        "def operator_neg(self : Variable) -> Variable:\n",
        "  #define forward\n",
        "  r = Variable(-self.value)\n",
        "  print_verbose(f'{r.name} = -{self.name} = {r.value:.3f}')\n",
        "\n",
        "  # record what the inputs and outputs of the op were\n",
        "  inputs = [self.name]\n",
        "  outputs = [r.name]\n",
        "\n",
        "  # define backprop\n",
        "  def propagate(dL_doutputs: List[Variable]):\n",
        "        dL_dr, = dL_doutputs\n",
        "        # partial derivative of r = - self\n",
        "        #dr_dself = - 1.0\n",
        "        # chain rule propagation from outputs to inputs of neg\n",
        "        dL_dself = - dL_dr\n",
        "        return [dL_dself]\n",
        "  # finally, we record the compute we did on the tape\n",
        "  gradient_tape.append(TapeEntry(inputs=inputs, outputs=outputs, propagate=propagate))\n",
        "  return r\n",
        "\n",
        "def inv(rhs: Variable) -> Variable:\n",
        "    #define forward\n",
        "    r = Variable(1.0 / rhs.value)\n",
        "    print_verbose(f'{r.name} = 1.0 / {rhs.name} = {r.value:.3f}')\n",
        "\n",
        "    # record what the inputs and outputs of the op were\n",
        "    inputs = [rhs.name]\n",
        "    outputs = [r.name]\n",
        "\n",
        "    # define backprop\n",
        "    def propagate(dL_doutputs: List[Variable]):\n",
        "          dL_dr, = dL_doutputs\n",
        "          # partial derivative of r = 1.0 / rhs\n",
        "          dr_drhs = - inv(rhs * rhs)\n",
        "          # chain rule propagation from outputs to inputs of inv\n",
        "          dL_drhs = dL_dr * dr_drhs\n",
        "          return [dL_drhs]\n",
        "    # finally, we record the compute we did on the tape\n",
        "    gradient_tape.append(TapeEntry(inputs=inputs, outputs=outputs, propagate=propagate))\n",
        "    return r\n",
        "\n",
        "def ln(rhs: Variable) -> Variable:\n",
        "    #define forward\n",
        "    r = Variable(math.log(rhs.value))\n",
        "    print_verbose(f'{r.name} = log({rhs.name}) = {r.value:.3f}')\n",
        "\n",
        "    # record what the inputs and outputs of the op were\n",
        "    inputs = [rhs.name]\n",
        "    outputs = [r.name]\n",
        "\n",
        "    # define backprop\n",
        "    def propagate(dL_doutputs: List[Variable]):\n",
        "          dL_dr, = dL_doutputs\n",
        "          # partial derivative of r = ln(rhs)\n",
        "          dr_drhs = inv(rhs)\n",
        "          # chain rule propagation from outputs to inputs of ln\n",
        "          dL_drhs = dL_dr * dr_drhs\n",
        "          return [dL_drhs]\n",
        "    # finally, we record the compute we did on the tape\n",
        "    gradient_tape.append(TapeEntry(inputs=inputs, outputs=outputs, propagate=propagate))\n",
        "    return r\n",
        "\n",
        "def sin(rhs: Variable) -> Variable:\n",
        "    #define forward\n",
        "    r = Variable(math.sin(rhs.value))\n",
        "    print_verbose(f'{r.name} = sin({rhs.name}) = {r.value:.3f}')\n",
        "\n",
        "    # record what the inputs and outputs of the op were\n",
        "    inputs = [rhs.name]\n",
        "    outputs = [r.name]\n",
        "\n",
        "    # define backprop\n",
        "    def propagate(dL_doutputs: List[Variable]):\n",
        "          dL_dr, = dL_doutputs\n",
        "          # partial derivative of r = sin(rhs)\n",
        "          dr_drhs = cos(rhs)\n",
        "          # chain rule propagation from outputs to inputs of cos\n",
        "          dL_drhs = dL_dr * dr_drhs\n",
        "          return [dL_drhs]\n",
        "    # finally, we record the compute we did on the tape\n",
        "    gradient_tape.append(TapeEntry(inputs=inputs, outputs=outputs, propagate=propagate))\n",
        "    return r\n",
        "\n",
        "def cos(rhs: Variable) -> Variable:\n",
        "    #define forward\n",
        "    r = Variable(math.cos(rhs.value))\n",
        "    print_verbose(f'{r.name} = cos({rhs.name}) = {r.value:.3f}')\n",
        "\n",
        "    # record what the inputs and outputs of the op were\n",
        "    inputs = [rhs.name]\n",
        "    outputs = [r.name]\n",
        "\n",
        "    # define backprop\n",
        "    def propagate(dL_doutputs: List[Variable]):\n",
        "          dL_dr, = dL_doutputs\n",
        "          # partial derivative of r = cos(rhs)\n",
        "          dr_drhs = - sin(rhs)\n",
        "          # chain rule propagation from outputs to inputs of sin\n",
        "          dL_drhs = dL_dr * dr_drhs\n",
        "          return [dL_drhs]\n",
        "    # finally, we record the compute we did on the tape\n",
        "    gradient_tape.append(TapeEntry(inputs=inputs, outputs=outputs, propagate=propagate))\n",
        "    return r"
      ],
      "metadata": {
        "id": "HLhY5jgUF-_V"
      },
      "execution_count": null,
      "outputs": []
    },
    {
      "cell_type": "code",
      "source": [
        "def grad(L, desired_results: List[Variable]) -> List[Variable]:\n",
        "    # this map holds the adjoints for each variables\n",
        "    dL_d : Dict[str, Variable] = {}\n",
        "    # the adjoint for the output variable is 1.0\n",
        "    dL_d[L.name] = Variable(1.0)\n",
        "    print_verbose(f'd{L.name} ------------------------')\n",
        "\n",
        "    # If a variable is never used to compute the loss, we consider its gradient None\n",
        "    def gather_grad(entries: List[str]):\n",
        "        return [dL_d[entry] if entry in dL_d else None for entry in entries]\n",
        "\n",
        "    # propagate the gradient information backward\n",
        "    for entry in reversed(gradient_tape):\n",
        "        dL_doutputs = gather_grad(entry.outputs)\n",
        "        if all(dL_doutput is None for dL_doutput in dL_doutputs):\n",
        "            # optimize for the case where some gradient pathways are zero. See\n",
        "            # The note below for more details.\n",
        "            continue\n",
        "\n",
        "        # perform chain rule propagation specific to each compute\n",
        "        dL_dinputs = entry.propagate(dL_doutputs)\n",
        "\n",
        "        # Accumulate the gradient produced for each input,\n",
        "        #by adding up the contributions along each path\n",
        "        for input, dL_dinput in zip(entry.inputs, dL_dinputs):\n",
        "            if input not in dL_d:\n",
        "                dL_d[input] = dL_dinput\n",
        "            else:\n",
        "                dL_d[input] += dL_dinput\n",
        "\n",
        "    for name, value in dL_d.items():\n",
        "        print_verbose(f'd{L.name}_d{name} = {value.name}')\n",
        "    print_verbose(f'------------------------')\n",
        "\n",
        "    #in case a variable was not used to compute the function, we return None\n",
        "    return gather_grad(desired.name for desired in desired_results)"
      ],
      "metadata": {
        "id": "DJyvEx9TQyTQ"
      },
      "execution_count": null,
      "outputs": []
    },
    {
      "cell_type": "code",
      "source": [
        "reset_tape() # reset any compute from other cells\n",
        "_verbose = True\n",
        "\n",
        "def f(x1: Variable, x2: Variable) -> Variable:\n",
        "  return ln(x1) + x1*sin(x2)\n",
        "\n",
        "x1 = Variable.constant(2, name= 'v-1')\n",
        "x2 = Variable.constant(1, name= 'v0')\n",
        "\n",
        "result = f(x1, x2)"
      ],
      "metadata": {
        "colab": {
          "base_uri": "https://localhost:8080/"
        },
        "id": "QUPpnZleUiox",
        "outputId": "f8091109-782e-40f4-b4d4-ef504d0c934e"
      },
      "execution_count": null,
      "outputs": [
        {
          "output_type": "stream",
          "name": "stdout",
          "text": [
            "v-1 = 2.000\n",
            "v0 = 1.000\n",
            "v1 = log(v-1) = 0.693\n",
            "v2 = sin(v0) = 0.841\n",
            "v3 = v-1 * v2 = 1.683\n",
            "v4 = v1 + v3 = 2.376\n"
          ]
        }
      ]
    },
    {
      "cell_type": "code",
      "source": [
        "dx1, dx2 = grad(result, [x1, x2])\n",
        "print(\"dx1\", dx1)\n",
        "print(\"dx2\", dx2)"
      ],
      "metadata": {
        "colab": {
          "base_uri": "https://localhost:8080/"
        },
        "id": "LcQfzobvwcVV",
        "outputId": "fc9e4af3-b565-4817-9795-980c904cfa82"
      },
      "execution_count": null,
      "outputs": [
        {
          "output_type": "stream",
          "name": "stdout",
          "text": [
            "dv4 ------------------------\n",
            "v6 = v5 * v2 = 0.841\n",
            "v7 = v5 * v-1 = 2.000\n",
            "v8 = cos(v0) = 0.540\n",
            "v9 = v7 * v8 = 1.081\n",
            "v10 = 1.0 / v-1 = 0.500\n",
            "v11 = v5 * v10 = 0.500\n",
            "v12 = v6 + v11 = 1.341\n",
            "dv4_dv4 = v5\n",
            "dv4_dv1 = v5\n",
            "dv4_dv3 = v5\n",
            "dv4_dv-1 = v12\n",
            "dv4_dv2 = v7\n",
            "dv4_dv0 = v9\n",
            "------------------------\n",
            "dx1 1.3414709848078965\n",
            "dx2 1.0806046117362795\n"
          ]
        }
      ]
    },
    {
      "cell_type": "code",
      "source": [
        "import numpy as np\n",
        "import matplotlib.pyplot as plt\n",
        "np.random.seed(1)\n",
        "\n",
        "input_size = 50\n",
        "X = np.random.random(input_size)\n",
        "noise = np.random.normal(0, 0.05, input_size)\n",
        "y_truth = X + 1 + noise\n",
        "\n",
        "X_expand = np.expand_dims(X, axis=1)\n",
        "X_expand = np.insert(X_expand, 1, np.ones(input_size), axis=1)"
      ],
      "metadata": {
        "id": "ZTZs17n7pvJF"
      },
      "execution_count": null,
      "outputs": []
    },
    {
      "cell_type": "code",
      "source": [
        "def backward(loss, weights, lr):\n",
        "  #compute gradient for loss\n",
        "  gradients = grad(loss, weights)\n",
        "  #function to take a step in the direction of the gradient\n",
        "  gradient_step = np.vectorize(lambda weight, gradient: Variable(weight.value - lr*gradient.value))\n",
        "  #every iteration we will reset the gradient computations\n",
        "  reset_tape()\n",
        "  #return updated weights\n",
        "  return gradient_step(weights, gradients)\n",
        "\n",
        "#disable showing intermediate variables\n",
        "_verbose = False\n",
        "#reset any compute from other cells\n",
        "reset_tape() \n",
        "\n",
        "#convert NumPy array into array of Variable objects\n",
        "to_var = np.vectorize(lambda x : Variable(x))\n",
        "\n",
        "#get values from array of Variable objects\n",
        "to_vals = np.vectorize(lambda x : x.value)\n",
        "\n",
        "#learning rate for gradient descent\n",
        "lrate = 0.5\n",
        "#number of gradient updates\n",
        "num_iters = 50\n",
        "\n",
        "#initialization of the weights for our model\n",
        "weights = np.random.normal(0, 1, 2)\n",
        "\n",
        "#we will save the loss and weights for latter visualization\n",
        "loss_vals = []\n",
        "weights_vals = []\n",
        "\n",
        "#convert weights to variables\n",
        "weights_var = to_var(weights)\n",
        "for i in range(num_iters):\n",
        "  #load sample data\n",
        "  X_var = to_var(X_expand)\n",
        "  y_truth_var = to_var(y_truth)\n",
        "\n",
        "  #compute the predictions of the model and its loss\n",
        "  y_var_pred = np.matmul(X_var, weights_var)\n",
        "  loss = Variable.constant(1.0 / (2 * input_size))*np.sum((y_var_pred - y_truth_var) * (y_var_pred - y_truth_var))\n",
        "  #update weights using gradient descent\n",
        "  weights_var = backward(loss, weights_var, lrate)\n",
        "\n",
        "  #save values for visualizations\n",
        "  loss_vals.append(loss.value)\n",
        "  weights_vals.append(to_vals(weights_var))"
      ],
      "metadata": {
        "id": "RYa9dDs2CJRA"
      },
      "execution_count": null,
      "outputs": []
    },
    {
      "cell_type": "code",
      "source": [
        "weights = to_vals(weights_var)\n",
        "\n",
        "plt.scatter(X, y_truth)\n",
        "plt.plot([0, 1], [1, 2], 'k-', color = 'r')\n",
        "plt.plot([0, 1], [weights[1], weights[0] + weights[1]], 'r', color='green')\n",
        "\n",
        "plt.show()"
      ],
      "metadata": {
        "colab": {
          "base_uri": "https://localhost:8080/",
          "height": 265
        },
        "id": "zl5pVDjMDfQx",
        "outputId": "428fb7a2-524a-498f-aec4-cbcff938b718"
      },
      "execution_count": null,
      "outputs": [
        {
          "output_type": "display_data",
          "data": {
            "text/plain": [
              "<Figure size 432x288 with 1 Axes>"
            ],
            "image/png": "[encoded data removed]"
          },
          "metadata": {
            "needs_background": "light"
          }
        }
      ]
    },
    {
      "cell_type": "code",
      "source": [
        "plt.plot(loss_vals)\n",
        "plt.xlabel(\"Iterations\")\n",
        "plt.ylabel(\"Loss\")\n",
        "plt.show()"
      ],
      "metadata": {
        "id": "0LeIU-OB0fxj",
        "colab": {
          "base_uri": "https://localhost:8080/",
          "height": 279
        },
        "outputId": "50d987a2-540a-4a64-cd42-1afbefd379c1"
      },
      "execution_count": null,
      "outputs": [
        {
          "output_type": "display_data",
          "data": {
            "text/plain": [
              "<Figure size 432x288 with 1 Axes>"
            ],
            "image/png": "[encoded data removed]"
          },
          "metadata": {
            "needs_background": "light"
          }
        }
      ]
    }
  ]
}